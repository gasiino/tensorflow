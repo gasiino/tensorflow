{
  "nbformat": 4,
  "nbformat_minor": 0,
  "metadata": {
    "colab": {
      "name": "TensorFlow Workshop - Image Recognition With Colab",
      "version": "0.3.2",
      "provenance": [],
      "include_colab_link": true
    },
    "kernelspec": {
      "display_name": "Python 3",
      "language": "python",
      "name": "python3"
    }
  },
  "cells": [
    {
      "cell_type": "markdown",
      "metadata": {
        "id": "view-in-github",
        "colab_type": "text"
      },
      "source": [
        "<a href=\"https://colab.research.google.com/github/gasiino/tensorflow/blob/master/TensorFlow_Workshop_Image_Recognition_With_Colab.ipynb\" target=\"_parent\"><img src=\"https://colab.research.google.com/assets/colab-badge.svg\" alt=\"Open In Colab\"/></a>"
      ]
    },
    {
      "metadata": {
        "id": "83rwhErrVRak",
        "colab_type": "text"
      },
      "cell_type": "markdown",
      "source": [
        "#### Import the libraries"
      ]
    },
    {
      "metadata": {
        "id": "n__9FGO1VRan",
        "colab_type": "code",
        "colab": {
          "base_uri": "https://localhost:8080/",
          "height": 35
        },
        "outputId": "45f42892-bd13-420e-ff21-e9f43e77a4f2"
      },
      "cell_type": "code",
      "source": [
        "import keras\n",
        "from keras import backend as K\n",
        "from keras.layers.core import Dense, Activation\n",
        "from keras.optimizers import Adam\n",
        "from keras.metrics import categorical_crossentropy\n",
        "from keras.preprocessing.image import ImageDataGenerator\n",
        "from keras.preprocessing import image\n",
        "from keras.models import Model\n",
        "from keras.applications import imagenet_utils\n",
        "import numpy as np\n",
        "from IPython.display import Image"
      ],
      "execution_count": 1,
      "outputs": [
        {
          "output_type": "stream",
          "text": [
            "Using TensorFlow backend.\n"
          ],
          "name": "stderr"
        }
      ]
    },
    {
      "metadata": {
        "id": "t0uk70_pHwEl",
        "colab_type": "text"
      },
      "cell_type": "markdown",
      "source": [
        "#### Import MobileNet - the image recognition model\n"
      ]
    },
    {
      "metadata": {
        "id": "Yi5kab7SVRa3",
        "colab_type": "code",
        "colab": {
          "base_uri": "https://localhost:8080/",
          "height": 72
        },
        "outputId": "39239810-13a9-491e-90f8-5ac77133d772"
      },
      "cell_type": "code",
      "source": [
        "mobile = keras.applications.mobilenet.MobileNet()"
      ],
      "execution_count": 2,
      "outputs": [
        {
          "output_type": "stream",
          "text": [
            "Downloading data from https://github.com/fchollet/deep-learning-models/releases/download/v0.6/mobilenet_1_0_224_tf.h5\n",
            "17227776/17225924 [==============================] - 3s 0us/step\n"
          ],
          "name": "stdout"
        }
      ]
    },
    {
      "metadata": {
        "id": "TAbpjBHLGaXw",
        "colab_type": "text"
      },
      "cell_type": "markdown",
      "source": [
        "#### Function to Prepare Images"
      ]
    },
    {
      "metadata": {
        "id": "3-MzxgAcVRa-",
        "colab_type": "code",
        "colab": {}
      },
      "cell_type": "code",
      "source": [
        "def prepare_image(file):\n",
        "    img_path = ''\n",
        "    img = image.load_img(img_path + file, target_size=(224, 224))\n",
        "    img_array = image.img_to_array(img)\n",
        "    img_array_expanded_dims = np.expand_dims(img_array, axis=0)\n",
        "    return keras.applications.mobilenet.preprocess_input(img_array_expanded_dims)"
      ],
      "execution_count": 0,
      "outputs": []
    },
    {
      "metadata": {
        "id": "KH_4apwIGlev",
        "colab_type": "text"
      },
      "cell_type": "markdown",
      "source": [
        "#### Preview Image"
      ]
    },
    {
      "metadata": {
        "id": "3YcPHpdRVRbF",
        "colab_type": "code",
        "colab": {
          "base_uri": "https://localhost:8080/",
          "height": 467
        },
        "outputId": "7bec744c-e2ad-4d62-f669-8d2dc8e46a44"
      },
      "cell_type": "code",
      "source": [
        "Image(filename='german-shepherd1.jpg') "
      ],
      "execution_count": 4,
      "outputs": [
        {
          "output_type": "execute_result",
          "data": {
            "image/jpeg": "[encoded data removed]",
            "text/plain": [
              "<IPython.core.display.Image object>"
            ]
          },
          "metadata": {
            "tags": []
          },
          "execution_count": 4
        }
      ]
    },
    {
      "metadata": {
        "id": "XQ9fE0NZGvEo",
        "colab_type": "text"
      },
      "cell_type": "markdown",
      "source": [
        "#### Image Prediction"
      ]
    },
    {
      "metadata": {
        "id": "vh4zghuRVRbP",
        "colab_type": "code",
        "colab": {
          "base_uri": "https://localhost:8080/",
          "height": 159
        },
        "outputId": "8181d33d-f199-4b61-ee58-df02ffaa1f98"
      },
      "cell_type": "code",
      "source": [
        "preprocessed_image = prepare_image('german-shepherd1.jpg')\n",
        "predictions = mobile.predict(preprocessed_image)\n",
        "results = imagenet_utils.decode_predictions(predictions)\n",
        "results"
      ],
      "execution_count": 5,
      "outputs": [
        {
          "output_type": "stream",
          "text": [
            "Downloading data from https://s3.amazonaws.com/deep-learning-models/image-models/imagenet_class_index.json\n",
            "40960/35363 [==================================] - 0s 2us/step\n"
          ],
          "name": "stdout"
        },
        {
          "output_type": "execute_result",
          "data": {
            "text/plain": [
              "[[('n02106662', 'German_shepherd', 0.99520725),\n",
              "  ('n02105162', 'malinois', 0.004349567),\n",
              "  ('n02111129', 'Leonberg', 0.00020117623),\n",
              "  ('n02105251', 'briard', 9.7422286e-05),\n",
              "  ('n02091467', 'Norwegian_elkhound', 6.187159e-05)]]"
            ]
          },
          "metadata": {
            "tags": []
          },
          "execution_count": 5
        }
      ]
    },
    {
      "metadata": {
        "id": "s7m1EqTMG5kW",
        "colab_type": "text"
      },
      "cell_type": "markdown",
      "source": [
        "#### Preview + Predict for Other Images"
      ]
    },
    {
      "metadata": {
        "id": "_rHqw1hLVRbZ",
        "colab_type": "code",
        "colab": {}
      },
      "cell_type": "code",
      "source": [
        "Image(filename='labrador1.jpg') "
      ],
      "execution_count": 0,
      "outputs": []
    },
    {
      "metadata": {
        "id": "-hIH3UXGVRbi",
        "colab_type": "code",
        "colab": {}
      },
      "cell_type": "code",
      "source": [
        "preprocessed_image = prepare_image('labrador1.jpg')\n",
        "predictions = mobile.predict(preprocessed_image)\n",
        "results = imagenet_utils.decode_predictions(predictions)\n",
        "results"
      ],
      "execution_count": 0,
      "outputs": []
    },
    {
      "metadata": {
        "id": "X8DpmgaxVRbr",
        "colab_type": "code",
        "colab": {}
      },
      "cell_type": "code",
      "source": [
        "Image(filename='poodle1.jpg') "
      ],
      "execution_count": 0,
      "outputs": []
    },
    {
      "metadata": {
        "id": "mWwH06GPVRb3",
        "colab_type": "code",
        "colab": {}
      },
      "cell_type": "code",
      "source": [
        "preprocessed_image = prepare_image('poodle1.jpg')\n",
        "predictions = mobile.predict(preprocessed_image)\n",
        "results = imagenet_utils.decode_predictions(predictions)\n",
        "results"
      ],
      "execution_count": 0,
      "outputs": []
    }
  ]
}